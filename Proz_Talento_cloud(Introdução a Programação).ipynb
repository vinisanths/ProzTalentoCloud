{
  "nbformat": 4,
  "nbformat_minor": 0,
  "metadata": {
    "colab": {
      "provenance": [],
      "authorship_tag": "ABX9TyMeSOeA/lHQVF0gjjqjDKwV",
      "include_colab_link": true
    },
    "kernelspec": {
      "name": "python3",
      "display_name": "Python 3"
    },
    "language_info": {
      "name": "python"
    }
  },
  "cells": [
    {
      "cell_type": "markdown",
      "metadata": {
        "id": "view-in-github",
        "colab_type": "text"
      },
      "source": [
        "<a href=\"https://colab.research.google.com/github/vinisanths/ProzTalentoCloud/blob/main/Proz_Talento_cloud.ipynb\" target=\"_parent\"><img src=\"https://colab.research.google.com/assets/colab-badge.svg\" alt=\"Open In Colab\"/></a>"
      ]
    },
    {
      "cell_type": "code",
      "execution_count": 8,
      "metadata": {
        "colab": {
          "base_uri": "https://localhost:8080/"
        },
        "id": "3neNrM9VlZuI",
        "outputId": "001150bc-4f31-4785-f9d6-647c17d5bd76"
      },
      "outputs": [
        {
          "output_type": "stream",
          "name": "stdout",
          "text": [
            "Informe a quantidade de Rodas: 5\n",
            "5\n",
            "Informe o peso bruto: 6500\n",
            "6500.0\n",
            "Informe a Quantidades de pessoas no veiculo: 5\n",
            "5\n",
            "Categoria Recomendada: E\n"
          ]
        }
      ],
      "source": [
        "quantiRodas = int(input(\"Informe a quantidade de Rodas: \"))\n",
        "print(quantiRodas)\n",
        "pesoBruto = float(input(\"Informe o peso bruto: \"))\n",
        "print(pesoBruto)\n",
        "quantiPessoas = int(input(\"Informe a Quantidades de pessoas no veiculo: \"))\n",
        "print(quantiPessoas)\n",
        "if (quantiRodas >= 4 and pesoBruto > 6000):\n",
        "    print(\"Categoria Recomendada: E\")\n",
        "elif(quantiRodas >= 4 and quantiPessoas > 8):\n",
        "  print(\"Categoria Recomendada: D\")\n",
        "elif(quantiRodas >= 4 and pesoBruto >= 3500 and pesoBruto <=6000):\n",
        "  print(\"Categoria Recomendada: C\")\n",
        "elif(quantiRodas >= 4 and quantiPessoas <= 8 and pesoBruto <= 3500):\n",
        "  print(\"Categoria Recomendada: B\")\n",
        "else:\n",
        "  print(\"Categoria Recomendada: A\")\n",
        "\n",
        ""
      ]
    }
  ]
}
